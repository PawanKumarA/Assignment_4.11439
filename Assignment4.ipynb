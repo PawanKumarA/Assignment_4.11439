{
 "cells": [
  {
   "cell_type": "markdown",
   "metadata": {},
   "source": [
    "# Task 1:"
   ]
  },
  {
   "cell_type": "markdown",
   "metadata": {},
   "source": [
    "1.Given a sequence of n values x1,x2,...,xn and a window size k>0,the k-th moving average of the given sequence is defined as follows:\n",
    "    \n",
    "The moving average sequence has n-k+1 elements as shown below.\n",
    "\n",
    "The moving averages with k=4 of a ten-value sequence (n=10) is shown below\n",
    "\n",
    "   i     1   2   3   4   5   6   7   8   9 10\n",
    "   \n",
    "=====  ==  ==  ==  ==  ==  ==  ==  ==  ==  ==\n",
    "\n",
    "Input  10  20  30  40  50  60  70  80  90 100\n",
    "\n",
    "y1       25 = (10+20+30+40)/4\n",
    "\n",
    "y2         35 = (20+30+40+50)/4\n",
    "\n",
    "y3             45 = (30+40+50+60)/4\n",
    "\n",
    "y4                 55 = (40+50+60+70)/4\n",
    "\n",
    "y5                     65 = (50+60+70+80)/4\n",
    "\n",
    "y6                         75 = (60+70+80+90)/4\n",
    "\n",
    "y7                             85 = (70+80+90+100)/4\n",
    "\n",
    "Thus, the moving average sequence has n-k+1=10-4+1=7 values"
   ]
  },
  {
   "cell_type": "code",
   "execution_count": 12,
   "metadata": {},
   "outputs": [],
   "source": [
    "def mov_avg_seq(a,k):\n",
    "    import numpy as np\n",
    "    size=len(a)\n",
    "    st=' '.join(str(x) for x in a)\n",
    "    print(\"i \",st)\n",
    "    print(\"-------------------------\")\n",
    "    for i in range(0,size-k+1):\n",
    "        sum=0.0\n",
    "        st=[]\n",
    "        for j in range(i,i+k):\n",
    "            sum=sum+a[j]\n",
    "            st.append(str(a[j]))\n",
    "        avg=sum/k\n",
    "        st1=\" + \".join(st)\n",
    "        st1=\"(\"+st1+\")\"\n",
    "        st1=st1+\"/\"+str(k)\n",
    "        print(\"y\",(i+1), \" \"*(i+1),'%.2f'%avg,\"=\",st1)\n",
    "\n",
    "    "
   ]
  },
  {
   "cell_type": "code",
   "execution_count": 13,
   "metadata": {},
   "outputs": [
    {
     "name": "stdout",
     "output_type": "stream",
     "text": [
      "i  10 20 30 40 50 60 70 80 90 100\n",
      "-------------------------\n",
      "y 1   25.00 = (10 + 20 + 30 + 40)/4\n",
      "y 2    35.00 = (20 + 30 + 40 + 50)/4\n",
      "y 3     45.00 = (30 + 40 + 50 + 60)/4\n",
      "y 4      55.00 = (40 + 50 + 60 + 70)/4\n",
      "y 5       65.00 = (50 + 60 + 70 + 80)/4\n",
      "y 6        75.00 = (60 + 70 + 80 + 90)/4\n",
      "y 7         85.00 = (70 + 80 + 90 + 100)/4\n"
     ]
    }
   ],
   "source": [
    "import numpy as np\n",
    "a=np.array([10,20,30,40,50,60,70,80,90,100])\n",
    "k=4\n",
    "mov_avg_seq(a,k)"
   ]
  },
  {
   "cell_type": "code",
   "execution_count": 14,
   "metadata": {},
   "outputs": [
    {
     "name": "stdout",
     "output_type": "stream",
     "text": [
      "i  3 5 7 2 8 10 11 65 72 81 99 100 150\n",
      "-------------------------\n",
      "y 1   5.00 = (3 + 5 + 7)/3\n",
      "y 2    4.67 = (5 + 7 + 2)/3\n",
      "y 3     5.67 = (7 + 2 + 8)/3\n",
      "y 4      6.67 = (2 + 8 + 10)/3\n",
      "y 5       9.67 = (8 + 10 + 11)/3\n",
      "y 6        28.67 = (10 + 11 + 65)/3\n",
      "y 7         49.33 = (11 + 65 + 72)/3\n",
      "y 8          72.67 = (65 + 72 + 81)/3\n",
      "y 9           84.00 = (72 + 81 + 99)/3\n",
      "y 10            93.33 = (81 + 99 + 100)/3\n",
      "y 11             116.33 = (99 + 100 + 150)/3\n"
     ]
    }
   ],
   "source": [
    "a=np.array([3, 5, 7, 2, 8, 10, 11, 65, 72, 81, 99, 100, 150])\n",
    "k=3\n",
    "mov_avg_seq(a,k)"
   ]
  },
  {
   "cell_type": "markdown",
   "metadata": {},
   "source": [
    "# Task 2:"
   ]
  },
  {
   "cell_type": "markdown",
   "metadata": {},
   "source": [
    "1.  \n",
    "How-to-count-distance-to-the-previous-zero \n",
    "\n",
    "For each value, count the difference back to the previous zero (or the start of the Series, whichever is closer) \n",
    "\n",
    "create a new column 'Y' \n",
    "\n",
    "Consider a DataFrame df where there is an integer column 'X' \n",
    "\n",
    "import pandas as pd \n",
    "\n",
    "df = pd.DataFrame({'X': [7, 2, 0, 3, 4, 2, 5, 0, 3, 4]}"
   ]
  },
  {
   "cell_type": "code",
   "execution_count": 4,
   "metadata": {},
   "outputs": [
    {
     "data": {
      "text/html": [
       "<div>\n",
       "<style scoped>\n",
       "    .dataframe tbody tr th:only-of-type {\n",
       "        vertical-align: middle;\n",
       "    }\n",
       "\n",
       "    .dataframe tbody tr th {\n",
       "        vertical-align: top;\n",
       "    }\n",
       "\n",
       "    .dataframe thead th {\n",
       "        text-align: right;\n",
       "    }\n",
       "</style>\n",
       "<table border=\"1\" class=\"dataframe\">\n",
       "  <thead>\n",
       "    <tr style=\"text-align: right;\">\n",
       "      <th></th>\n",
       "      <th>X</th>\n",
       "      <th>Y</th>\n",
       "    </tr>\n",
       "  </thead>\n",
       "  <tbody>\n",
       "    <tr>\n",
       "      <th>0</th>\n",
       "      <td>7</td>\n",
       "      <td>1</td>\n",
       "    </tr>\n",
       "    <tr>\n",
       "      <th>1</th>\n",
       "      <td>2</td>\n",
       "      <td>2</td>\n",
       "    </tr>\n",
       "    <tr>\n",
       "      <th>2</th>\n",
       "      <td>0</td>\n",
       "      <td>0</td>\n",
       "    </tr>\n",
       "    <tr>\n",
       "      <th>3</th>\n",
       "      <td>3</td>\n",
       "      <td>1</td>\n",
       "    </tr>\n",
       "    <tr>\n",
       "      <th>4</th>\n",
       "      <td>4</td>\n",
       "      <td>2</td>\n",
       "    </tr>\n",
       "    <tr>\n",
       "      <th>5</th>\n",
       "      <td>2</td>\n",
       "      <td>3</td>\n",
       "    </tr>\n",
       "    <tr>\n",
       "      <th>6</th>\n",
       "      <td>5</td>\n",
       "      <td>4</td>\n",
       "    </tr>\n",
       "    <tr>\n",
       "      <th>7</th>\n",
       "      <td>0</td>\n",
       "      <td>0</td>\n",
       "    </tr>\n",
       "    <tr>\n",
       "      <th>8</th>\n",
       "      <td>3</td>\n",
       "      <td>1</td>\n",
       "    </tr>\n",
       "    <tr>\n",
       "      <th>9</th>\n",
       "      <td>4</td>\n",
       "      <td>2</td>\n",
       "    </tr>\n",
       "  </tbody>\n",
       "</table>\n",
       "</div>"
      ],
      "text/plain": [
       "   X  Y\n",
       "0  7  1\n",
       "1  2  2\n",
       "2  0  0\n",
       "3  3  1\n",
       "4  4  2\n",
       "5  2  3\n",
       "6  5  4\n",
       "7  0  0\n",
       "8  3  1\n",
       "9  4  2"
      ]
     },
     "execution_count": 4,
     "metadata": {},
     "output_type": "execute_result"
    }
   ],
   "source": [
    "import pandas as pd\n",
    "r = []\n",
    "s=pd.DataFrame([7,2,0,3,4,2,5,0,3,4], columns=['X'])\n",
    "i=0\n",
    "for element in s['X']:\n",
    "    if element != 0:\n",
    "        i += 1\n",
    "    else:\n",
    "        i = 0\n",
    "    r.append(i)\n",
    "s['Y']=r\n",
    "s"
   ]
  },
  {
   "cell_type": "markdown",
   "metadata": {},
   "source": [
    "2.Create a DatetimeIndex that contains each businessday of 2015 and use it to index a Series of random numbers"
   ]
  },
  {
   "cell_type": "code",
   "execution_count": 5,
   "metadata": {},
   "outputs": [
    {
     "data": {
      "text/plain": [
       "2015-01-01   -0.407457\n",
       "2015-01-02   -0.374829\n",
       "2015-01-05   -0.941192\n",
       "2015-01-06    0.325382\n",
       "2015-01-07   -0.295107\n",
       "Freq: B, dtype: float64"
      ]
     },
     "execution_count": 5,
     "metadata": {},
     "output_type": "execute_result"
    }
   ],
   "source": [
    "import numpy as np\n",
    "import pandas as pd\n",
    "bd = pd.bdate_range('2015-01-01', '2015-12-31')\n",
    "DatetimeIndex = pd.Series(np.random.randn(len(bd)), index=bd)\n",
    "DatetimeIndex.head()"
   ]
  },
  {
   "cell_type": "markdown",
   "metadata": {},
   "source": [
    "3.Find the sum of the values in s for every Wednesday"
   ]
  },
  {
   "cell_type": "code",
   "execution_count": 6,
   "metadata": {},
   "outputs": [
    {
     "name": "stdout",
     "output_type": "stream",
     "text": [
      "sum of values of all wednesdats in a year 2015: 5.908549517679465\n"
     ]
    }
   ],
   "source": [
    "from datetime import date\n",
    "import calendar\n",
    "wed_sum=0\n",
    "for my_date in bd:\n",
    "    if(calendar.day_name[my_date.weekday()]=='Wednesday'):\n",
    "        wed_sum=wed_sum+DatetimeIndex[my_date]\n",
    "        \n",
    "\n",
    "print(\"sum of values of all wednesdats in a year 2015:\",wed_sum)"
   ]
  },
  {
   "cell_type": "markdown",
   "metadata": {},
   "source": [
    "4.Average For each calendar month"
   ]
  },
  {
   "cell_type": "code",
   "execution_count": 7,
   "metadata": {},
   "outputs": [
    {
     "data": {
      "text/plain": [
       "2015-01-31    0.061289\n",
       "2015-02-28   -0.221476\n",
       "2015-03-31    0.215571\n",
       "2015-04-30   -0.123367\n",
       "2015-05-31   -0.014389\n",
       "2015-06-30    0.049903\n",
       "2015-07-31    0.211075\n",
       "2015-08-31    0.035455\n",
       "2015-09-30   -0.155056\n",
       "2015-10-31   -0.185228\n",
       "2015-11-30   -0.097911\n",
       "2015-12-31   -0.026361\n",
       "Freq: M, dtype: float64"
      ]
     },
     "execution_count": 7,
     "metadata": {},
     "output_type": "execute_result"
    }
   ],
   "source": [
    "DatetimeIndex.groupby(pd.Grouper(freq='M')).mean()"
   ]
  },
  {
   "cell_type": "markdown",
   "metadata": {},
   "source": [
    "5.For each group of four consecutive calendar months in s, find the date on which the highest\n",
    "value occurred"
   ]
  },
  {
   "cell_type": "code",
   "execution_count": 8,
   "metadata": {},
   "outputs": [
    {
     "name": "stdout",
     "output_type": "stream",
     "text": [
      "highest value occured date between jan and Apr 2015-04-22 00:00:00 : 2.899595505158361\n",
      "highest value occured date between may and aug 2015-05-01 00:00:00 : 2.104454706253069\n",
      "highest value occured date between sep and dec 2015-12-01 00:00:00 : 1.8365517789827621\n"
     ]
    }
   ],
   "source": [
    "print(\"highest value occured date between jan and Apr\",DatetimeIndex['2015-01-01':'2015-04-30'].idxmax(),':',DatetimeIndex['2015-01-01':'2015-04-30'].max())\n",
    "print(\"highest value occured date between may and aug\",DatetimeIndex['2015-05-01':'2015-08-31'].idxmax(),':',DatetimeIndex['2015-05-01':'2015-08-31'].max())\n",
    "print(\"highest value occured date between sep and dec\",DatetimeIndex['2015-09-01':'2015-12-31'].idxmax(),':',DatetimeIndex['2015-09-01':'2015-12-31'].max())\n"
   ]
  },
  {
   "cell_type": "code",
   "execution_count": null,
   "metadata": {},
   "outputs": [],
   "source": []
  }
 ],
 "metadata": {
  "kernelspec": {
   "display_name": "Python 3",
   "language": "python",
   "name": "python3"
  },
  "language_info": {
   "codemirror_mode": {
    "name": "ipython",
    "version": 3
   },
   "file_extension": ".py",
   "mimetype": "text/x-python",
   "name": "python",
   "nbconvert_exporter": "python",
   "pygments_lexer": "ipython3",
   "version": "3.6.5"
  }
 },
 "nbformat": 4,
 "nbformat_minor": 2
}
